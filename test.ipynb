{
 "cells": [
  {
   "cell_type": "code",
   "execution_count": 1,
   "metadata": {
    "collapsed": true
   },
   "outputs": [],
   "source": [
    "import os\n",
    "os.environ[\"CUDA_VISIBLE_DEVICES\"]=\"0\""
   ]
  },
  {
   "cell_type": "code",
   "execution_count": 2,
   "outputs": [
    {
     "name": "stdout",
     "output_type": "stream",
     "text": [
      "1.6.0\n",
      "False\n"
     ]
    }
   ],
   "source": [
    "from datetime import datetime as dt\n",
    "import torch\n",
    "print(torch.__version__)\n",
    "print(torch.cuda.is_available())\n",
    "\n",
    "import torch.nn as nn\n",
    "import torch.nn.functional as f\n",
    "from torch import optim\n",
    "\n",
    "import torchvision\n",
    "from torchvision.datasets import MNIST\n",
    "from torchvision.transforms import transforms\n",
    "\n",
    "from torch.utils.data import DataLoader\n",
    "\n",
    "import numpy as np\n",
    "import pandas as pd\n",
    "from matplotlib import pyplot as plt\n",
    "\n",
    "from attacks import fgsm, pgd\n",
    "from model import SmallIntervalNet\n"
   ],
   "metadata": {
    "collapsed": false,
    "pycharm": {
     "name": "#%%\n"
    }
   }
  },
  {
   "cell_type": "code",
   "execution_count": 3,
   "outputs": [],
   "source": [
    "from datetime import datetime as dt\n",
    "device = torch.device(\"cuda\" if torch.cuda.is_available() else \"cpu\")\n",
    "\n",
    "def clean_acc(model, loader):\n",
    "    clean_correct = 0.\n",
    "    model.eval()\n",
    "    with torch.no_grad():\n",
    "        for k, (X, y) in enumerate(loader, 1):\n",
    "            start = dt.now().replace(microsecond=0)\n",
    "            X, y = X.to(device), y.to(device)\n",
    "            l, _ = model(torch.cat([X, X], dim=1))\n",
    "            clean_correct += (l.argmax(dim=1) == y).sum().item()\n",
    "            end = dt.now().replace(microsecond=0)\n",
    "            print(f\"iter: {k}/{len(loader)} time: {end-start}\", end=\"\\r\")\n",
    "        print(\" \" * 50, end=\"\\r\")\n",
    "        acc = round(clean_correct / len(loader.dataset), 4)\n",
    "        print(f\"clean accuracy: {acc}\")\n",
    "    return acc\n",
    "\n",
    "def adv_acc(model, loader, loss_fn, attack, attack_params):\n",
    "    model.eval()\n",
    "    adv_correct = [0] * len(attack_params)\n",
    "    for i, (name, params) in enumerate(attack_params):\n",
    "        for k, (X, y) in enumerate(loader, 1):\n",
    "            start = dt.now().replace(microsecond=0)\n",
    "            X, y = X.to(device), y.to(device)\n",
    "            noise = attack(model, X, y, loss_fn, **params)\n",
    "            l, _ = model(torch.cat([X+noise, X+noise], dim=1))\n",
    "            adv_correct[i] += (l.argmax(dim=1) == y).sum().item()\n",
    "            end = dt.now().replace(microsecond=0)\n",
    "            print(f\"iter: {k}/{len(loader)} time: {end-start}\", end=\"\\r\")\n",
    "        print(\" \" * 50, end=\"\\r\")\n",
    "        print(f\"name: {name} accuracy: {(adv_correct[i] / len(loader.dataset)):.4f}\")\n",
    "    return [round(a/len(loader.dataset), 4) for a in adv_correct]\n",
    "\n"
   ],
   "metadata": {
    "collapsed": false,
    "pycharm": {
     "name": "#%%\n"
    }
   }
  },
  {
   "cell_type": "code",
   "execution_count": 4,
   "outputs": [],
   "source": [
    "test_transform = transforms.Compose([\n",
    "    transforms.ToTensor(),\n",
    "])\n",
    "\n",
    "ds = MNIST('../data', train=False, target_transform=None, download=True, transform=test_transform)\n",
    "test_loader = DataLoader(ds, 50, shuffle=True)"
   ],
   "metadata": {
    "collapsed": false,
    "pycharm": {
     "name": "#%%\n"
    }
   }
  },
  {
   "cell_type": "code",
   "execution_count": 5,
   "outputs": [],
   "source": [
    "attack1 = {\n",
    "    \"epsilon\": 8/255,\n",
    "    \"alpha\": 2/255,\n",
    "    \"num_iter\": 20\n",
    "}\n",
    "\n",
    "attack2 = {\n",
    "    \"epsilon\": 8/255,\n",
    "    \"alpha\": 2/255,\n",
    "    \"num_iter\": 40\n",
    "}\n",
    "\n",
    "attack3 = {\n",
    "    \"epsilon\": 0.1,\n",
    "    \"alpha\": 2/255,\n",
    "    \"num_iter\": 10\n",
    "}\n",
    "\n",
    "attack4 = {\n",
    "    \"epsilon\": 0.1,\n",
    "    \"alpha\": 2/255,\n",
    "    \"num_iter\": 20\n",
    "}\n",
    "\n",
    "attack1 = (\"eps=8/255,a=2,i=20\", attack1)\n",
    "attack2 = (\"eps=8/255,a=2,i=40\", attack2)\n",
    "attack3 = (\"eps=0.1,a=2,i=10\", attack3)\n",
    "attack4 = (\"eps=0.1,a=2,i=20\", attack4)\n",
    "\n",
    "params20 = [attack1, attack3]\n",
    "params40 = [attack3, attack4]\n"
   ],
   "metadata": {
    "collapsed": false,
    "pycharm": {
     "name": "#%%\n"
    }
   }
  },
  {
   "cell_type": "code",
   "execution_count": 6,
   "outputs": [
    {
     "name": "stdout",
     "output_type": "stream",
     "text": [
      "clean accuracy: 0.9608                            \n",
      "name: eps=8/255,a=2,i=20 accuracy: 0.9446         \n",
      "name: eps=8/255,a=2,i=40 accuracy: 0.9446         \n",
      "name: eps=0.1,a=2,i=10 accuracy: 0.9042           \n",
      "name: eps=0.1,a=2,i=20 accuracy: 0.8462           \n"
     ]
    }
   ],
   "source": [
    "model = SmallIntervalNet().to(device)\n",
    "model.load_state_dict(torch.load(\"saved/model_git.pt\", map_location=device))\n",
    "\n",
    "acc = clean_acc(model, test_loader)\n",
    "acc_adv = adv_acc(model, test_loader, nn.CrossEntropyLoss(),\n",
    "                  pgd, [attack1, attack2, attack3, attack4])\n",
    "\n",
    "\n"
   ],
   "metadata": {
    "collapsed": false,
    "pycharm": {
     "name": "#%%\n"
    }
   }
  }
 ],
 "metadata": {
  "kernelspec": {
   "display_name": "Python 3",
   "language": "python",
   "name": "python3"
  },
  "language_info": {
   "codemirror_mode": {
    "name": "ipython",
    "version": 2
   },
   "file_extension": ".py",
   "mimetype": "text/x-python",
   "name": "python",
   "nbconvert_exporter": "python",
   "pygments_lexer": "ipython2",
   "version": "2.7.6"
  }
 },
 "nbformat": 4,
 "nbformat_minor": 0
}